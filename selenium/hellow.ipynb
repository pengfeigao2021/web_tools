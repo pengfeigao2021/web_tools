{
 "cells": [
  {
   "cell_type": "code",
   "execution_count": null,
   "metadata": {},
   "outputs": [],
   "source": [
    "from selenium import webdriver\n",
    "from selenium.webdriver.common.keys import Keys\n",
    "from selenium.webdriver.common.by import By\n",
    "from selenium.webdriver import ActionChains\n",
    "\n",
    "NEWS = (\n",
    "    'https://news.ycombinator.com/'\n",
    ")\n",
    "\n",
    "for n in NEWS:\n",
    "    driver = webdriver.Chrome()\n",
    "    driver.get(n)\n",
    "\n",
    "    # Find the element that has the news title\n",
    "    news_title = driver.find_element(By.XPATH, '//h2[@class=\"title\"]/a')\n",
    "    print(news_title.text)\n",
    "    break"
   ]
  },
  {
   "cell_type": "code",
   "execution_count": null,
   "metadata": {},
   "outputs": [],
   "source": []
  }
 ],
 "metadata": {
  "kernelspec": {
   "display_name": "Python 3",
   "language": "python",
   "name": "python3"
  },
  "language_info": {
   "name": "python",
   "version": "3.9.5"
  },
  "orig_nbformat": 4
 },
 "nbformat": 4,
 "nbformat_minor": 2
}
